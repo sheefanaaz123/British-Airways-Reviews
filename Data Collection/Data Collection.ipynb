{
 "cells": [
  {
   "cell_type": "markdown",
   "id": "7afa73bd",
   "metadata": {},
   "source": [
    "# Data Collection\n"
   ]
  },
  {
   "cell_type": "markdown",
   "id": "8de5ea8c",
   "metadata": {},
   "source": [
    "##### In this phase we will collect the customer ratings data from the airline quality website called Skytrax. We will collect data about airline ratings, seat ratings and lounge experience ratings from this website."
   ]
  },
  {
   "cell_type": "code",
   "execution_count": 1,
   "id": "197cb3a8",
   "metadata": {},
   "outputs": [],
   "source": [
    "# Imports\n",
    "\n",
    "import pandas as pd\n",
    "import numpy as np"
   ]
  },
  {
   "cell_type": "code",
   "execution_count": 3,
   "id": "c3039e97",
   "metadata": {},
   "outputs": [
    {
     "name": "stdout",
     "output_type": "stream",
     "text": [
      "Requirement already satisfied: beautifulsoup4 in c:\\users\\kiit\\desktop\\sample_project_1\\env\\lib\\site-packages (4.11.1)\n",
      "Requirement already satisfied: requests in c:\\users\\kiit\\appdata\\roaming\\python\\python310\\site-packages (2.27.1)\n",
      "Requirement already satisfied: soupsieve>1.2 in c:\\users\\kiit\\desktop\\sample_project_1\\env\\lib\\site-packages (from beautifulsoup4) (2.3.2.post1)\n",
      "Requirement already satisfied: certifi>=2017.4.17 in c:\\users\\kiit\\appdata\\roaming\\python\\python310\\site-packages (from requests) (2021.10.8)\n",
      "Requirement already satisfied: idna<4,>=2.5 in c:\\users\\kiit\\appdata\\roaming\\python\\python310\\site-packages (from requests) (3.3)\n",
      "Requirement already satisfied: urllib3<1.27,>=1.21.1 in c:\\users\\kiit\\appdata\\roaming\\python\\python310\\site-packages (from requests) (1.26.9)\n",
      "Requirement already satisfied: charset-normalizer~=2.0.0 in c:\\users\\kiit\\appdata\\roaming\\python\\python310\\site-packages (from requests) (2.0.12)\n"
     ]
    }
   ],
   "source": [
    "# Installing \n",
    "\n",
    "!pip3 install beautifulsoup4 requests"
   ]
  },
  {
   "cell_type": "code",
   "execution_count": 4,
   "id": "37f288ea",
   "metadata": {},
   "outputs": [],
   "source": [
    "# BeautifulSoup is in bs4 package \n",
    "\n",
    "from bs4 import BeautifulSoup \n",
    "import requests"
   ]
  },
  {
   "cell_type": "code",
   "execution_count": 5,
   "id": "938e7600",
   "metadata": {},
   "outputs": [],
   "source": [
    "#create an empty list to collect reviews, rating stars, collect date and reviewer's country.\n",
    "\n",
    "reviews  = []\n",
    "\n",
    "stars = []\n",
    "\n",
    "date = []\n",
    "\n",
    "country = []"
   ]
  },
  {
   "cell_type": "code",
   "execution_count": 19,
   "id": "d8a17beb",
   "metadata": {},
   "outputs": [
    {
     "name": "stdout",
     "output_type": "stream",
     "text": [
      "Error on page 29\n",
      "Error on page 31\n",
      "Error on page 31\n",
      "Error on page 33\n",
      "Error on page 33\n"
     ]
    }
   ],
   "source": [
    "for i in range(1, 100):\n",
    "    page = requests.get(f\"https://www.airlinequality.com/airline-reviews/british-airways/page/{i}/?sortby=post_date%3ADesc&pagesize=100\")\n",
    "    \n",
    "    soup = BeautifulSoup(page.content, \"html.parser\")\n",
    "    \n",
    "    for item in soup.find_all(\"div\", class_=\"text_content\"):\n",
    "        reviews.append(item.text)\n",
    "    \n",
    "    for item in soup.find_all(\"div\", class_ = \"rating-10\"):\n",
    "        try:\n",
    "            stars.append(item.span.text)\n",
    "        except:\n",
    "            print(f\"Error on page {i}\")\n",
    "            stars.append(\"None\")\n",
    "            \n",
    "    #date\n",
    "    for item in soup.find_all(\"time\"):\n",
    "        date.append(item.text)\n",
    "        \n",
    "    #country\n",
    "    for item in soup.find_all(\"h3\"):\n",
    "        country.append(item.span.next_sibling.text.strip(\" ()\"))"
   ]
  },
  {
   "cell_type": "code",
   "execution_count": 20,
   "id": "f60b148a",
   "metadata": {},
   "outputs": [
    {
     "data": {
      "text/plain": [
       "13816"
      ]
     },
     "execution_count": 20,
     "metadata": {},
     "output_type": "execute_result"
    }
   ],
   "source": [
    "len(reviews)"
   ]
  },
  {
   "cell_type": "code",
   "execution_count": 21,
   "id": "62c0dc83",
   "metadata": {},
   "outputs": [
    {
     "data": {
      "text/plain": [
       "13816"
      ]
     },
     "execution_count": 21,
     "metadata": {},
     "output_type": "execute_result"
    }
   ],
   "source": [
    "len(country)"
   ]
  },
  {
   "cell_type": "code",
   "execution_count": 22,
   "id": "e36a8936",
   "metadata": {},
   "outputs": [
    {
     "data": {
      "text/plain": [
       "13915"
      ]
     },
     "execution_count": 22,
     "metadata": {},
     "output_type": "execute_result"
    }
   ],
   "source": [
    "len(stars)"
   ]
  },
  {
   "cell_type": "code",
   "execution_count": 23,
   "id": "387a7f44",
   "metadata": {},
   "outputs": [
    {
     "data": {
      "text/plain": [
       "13816"
      ]
     },
     "execution_count": 23,
     "metadata": {},
     "output_type": "execute_result"
    }
   ],
   "source": [
    "len(date)"
   ]
  },
  {
   "cell_type": "code",
   "execution_count": 24,
   "id": "1456cc67",
   "metadata": {},
   "outputs": [],
   "source": [
    "stars = stars[:13816]"
   ]
  },
  {
   "cell_type": "code",
   "execution_count": 25,
   "id": "7a00cf7b",
   "metadata": {},
   "outputs": [],
   "source": [
    "df = pd.DataFrame({\"reviews\":reviews,  \"date\":date,\"stars\": stars, \"country\": country})"
   ]
  },
  {
   "cell_type": "code",
   "execution_count": 26,
   "id": "cc969d15",
   "metadata": {},
   "outputs": [
    {
     "data": {
      "text/html": [
       "<div>\n",
       "<style scoped>\n",
       "    .dataframe tbody tr th:only-of-type {\n",
       "        vertical-align: middle;\n",
       "    }\n",
       "\n",
       "    .dataframe tbody tr th {\n",
       "        vertical-align: top;\n",
       "    }\n",
       "\n",
       "    .dataframe thead th {\n",
       "        text-align: right;\n",
       "    }\n",
       "</style>\n",
       "<table border=\"1\" class=\"dataframe\">\n",
       "  <thead>\n",
       "    <tr style=\"text-align: right;\">\n",
       "      <th></th>\n",
       "      <th>reviews</th>\n",
       "      <th>date</th>\n",
       "      <th>stars</th>\n",
       "      <th>country</th>\n",
       "    </tr>\n",
       "  </thead>\n",
       "  <tbody>\n",
       "    <tr>\n",
       "      <th>0</th>\n",
       "      <td>✅ Trip Verified |  Flew ATL to LHR 8th Jan 202...</td>\n",
       "      <td>9th January 2023</td>\n",
       "      <td>\\n\\t\\t\\t\\t\\t\\t\\t\\t\\t\\t\\t\\t\\t5</td>\n",
       "      <td>United Kingdom</td>\n",
       "    </tr>\n",
       "    <tr>\n",
       "      <th>1</th>\n",
       "      <td>Not Verified |  Great thing about British Airw...</td>\n",
       "      <td>8th January 2023</td>\n",
       "      <td>4</td>\n",
       "      <td>United Kingdom</td>\n",
       "    </tr>\n",
       "    <tr>\n",
       "      <th>2</th>\n",
       "      <td>Not Verified | The staff are friendly. The pla...</td>\n",
       "      <td>6th January 2023</td>\n",
       "      <td>5</td>\n",
       "      <td>Canada</td>\n",
       "    </tr>\n",
       "    <tr>\n",
       "      <th>3</th>\n",
       "      <td>✅ Trip Verified | Probably the worst business ...</td>\n",
       "      <td>2nd January 2023</td>\n",
       "      <td>1</td>\n",
       "      <td>United States</td>\n",
       "    </tr>\n",
       "    <tr>\n",
       "      <th>4</th>\n",
       "      <td>✅ Trip Verified | Definitely not recommended, ...</td>\n",
       "      <td>2nd January 2023</td>\n",
       "      <td>1</td>\n",
       "      <td>United States</td>\n",
       "    </tr>\n",
       "  </tbody>\n",
       "</table>\n",
       "</div>"
      ],
      "text/plain": [
       "                                             reviews              date  \\\n",
       "0  ✅ Trip Verified |  Flew ATL to LHR 8th Jan 202...  9th January 2023   \n",
       "1  Not Verified |  Great thing about British Airw...  8th January 2023   \n",
       "2  Not Verified | The staff are friendly. The pla...  6th January 2023   \n",
       "3  ✅ Trip Verified | Probably the worst business ...  2nd January 2023   \n",
       "4  ✅ Trip Verified | Definitely not recommended, ...  2nd January 2023   \n",
       "\n",
       "                           stars         country  \n",
       "0  \\n\\t\\t\\t\\t\\t\\t\\t\\t\\t\\t\\t\\t\\t5  United Kingdom  \n",
       "1                              4  United Kingdom  \n",
       "2                              5          Canada  \n",
       "3                              1   United States  \n",
       "4                              1   United States  "
      ]
     },
     "execution_count": 26,
     "metadata": {},
     "output_type": "execute_result"
    }
   ],
   "source": [
    "df.head()"
   ]
  },
  {
   "cell_type": "code",
   "execution_count": 27,
   "id": "0bdb3903",
   "metadata": {},
   "outputs": [
    {
     "data": {
      "text/plain": [
       "(13816, 4)"
      ]
     },
     "execution_count": 27,
     "metadata": {},
     "output_type": "execute_result"
    }
   ],
   "source": [
    "df.shape"
   ]
  },
  {
   "cell_type": "code",
   "execution_count": 28,
   "id": "fdbb2d67",
   "metadata": {},
   "outputs": [],
   "source": [
    "import os\n",
    "\n",
    "cwd = os.getcwd()\n",
    "df.to_csv(cwd+ \"/BA_reviews.csv\")"
   ]
  }
 ],
 "metadata": {
  "kernelspec": {
   "display_name": "Python 3 (ipykernel)",
   "language": "python",
   "name": "python3"
  },
  "language_info": {
   "codemirror_mode": {
    "name": "ipython",
    "version": 3
   },
   "file_extension": ".py",
   "mimetype": "text/x-python",
   "name": "python",
   "nbconvert_exporter": "python",
   "pygments_lexer": "ipython3",
   "version": "3.10.8"
  }
 },
 "nbformat": 4,
 "nbformat_minor": 5
}
