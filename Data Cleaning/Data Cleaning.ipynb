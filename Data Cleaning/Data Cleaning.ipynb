{
 "cells": [
  {
   "cell_type": "markdown",
   "id": "ca0c4638",
   "metadata": {},
   "source": [
    "# Data Cleaning\n"
   ]
  },
  {
   "cell_type": "markdown",
   "id": "0f246bc0",
   "metadata": {},
   "source": [
    "##### After extracting data from the website,  reviews section will need to be cleaned for punctuations, spellings and other characters."
   ]
  },
  {
   "cell_type": "code",
   "execution_count": 1,
   "id": "ecb8187b",
   "metadata": {},
   "outputs": [],
   "source": [
    "#imports\n",
    "\n",
    "import pandas as pd\n",
    "import matplotlib.pyplot as plt\n",
    "import os\n",
    "\n",
    "#regex\n",
    "import re"
   ]
  },
  {
   "cell_type": "code",
   "execution_count": 2,
   "id": "22cf0bac",
   "metadata": {},
   "outputs": [
    {
     "name": "stdout",
     "output_type": "stream",
     "text": [
      "Requirement already satisfied: seaborn in c:\\users\\kiit\\desktop\\sample_project_1\\env\\lib\\site-packages (0.12.2)\n",
      "Requirement already satisfied: numpy!=1.24.0,>=1.17 in c:\\users\\kiit\\appdata\\roaming\\python\\python310\\site-packages (from seaborn) (1.22.3)\n",
      "Requirement already satisfied: pandas>=0.25 in c:\\users\\kiit\\appdata\\roaming\\python\\python310\\site-packages (from seaborn) (1.4.2)\n",
      "Requirement already satisfied: matplotlib!=3.6.1,>=3.1 in c:\\users\\kiit\\desktop\\sample_project_1\\env\\lib\\site-packages (from seaborn) (3.6.2)\n",
      "Requirement already satisfied: pillow>=6.2.0 in c:\\users\\kiit\\desktop\\sample_project_1\\env\\lib\\site-packages (from matplotlib!=3.6.1,>=3.1->seaborn) (9.3.0)\n",
      "Requirement already satisfied: pyparsing>=2.2.1 in c:\\users\\kiit\\desktop\\sample_project_1\\env\\lib\\site-packages (from matplotlib!=3.6.1,>=3.1->seaborn) (3.0.9)\n",
      "Requirement already satisfied: contourpy>=1.0.1 in c:\\users\\kiit\\desktop\\sample_project_1\\env\\lib\\site-packages (from matplotlib!=3.6.1,>=3.1->seaborn) (1.0.5)\n",
      "Requirement already satisfied: kiwisolver>=1.0.1 in c:\\users\\kiit\\desktop\\sample_project_1\\env\\lib\\site-packages (from matplotlib!=3.6.1,>=3.1->seaborn) (1.4.2)\n",
      "Requirement already satisfied: packaging>=20.0 in c:\\users\\kiit\\desktop\\sample_project_1\\env\\lib\\site-packages (from matplotlib!=3.6.1,>=3.1->seaborn) (22.0)\n",
      "Requirement already satisfied: python-dateutil>=2.7 in c:\\users\\kiit\\appdata\\roaming\\python\\python310\\site-packages (from matplotlib!=3.6.1,>=3.1->seaborn) (2.8.2)\n",
      "Requirement already satisfied: fonttools>=4.22.0 in c:\\users\\kiit\\desktop\\sample_project_1\\env\\lib\\site-packages (from matplotlib!=3.6.1,>=3.1->seaborn) (4.25.0)\n",
      "Requirement already satisfied: cycler>=0.10 in c:\\users\\kiit\\desktop\\sample_project_1\\env\\lib\\site-packages (from matplotlib!=3.6.1,>=3.1->seaborn) (0.11.0)\n",
      "Requirement already satisfied: pytz>=2020.1 in c:\\users\\kiit\\appdata\\roaming\\python\\python310\\site-packages (from pandas>=0.25->seaborn) (2022.1)\n",
      "Requirement already satisfied: six>=1.5 in c:\\users\\kiit\\appdata\\roaming\\python\\python310\\site-packages (from python-dateutil>=2.7->matplotlib!=3.6.1,>=3.1->seaborn) (1.16.0)\n"
     ]
    }
   ],
   "source": [
    "!pip3 install seaborn"
   ]
  },
  {
   "cell_type": "code",
   "execution_count": 13,
   "id": "1c39ee44",
   "metadata": {},
   "outputs": [
    {
     "name": "stdout",
     "output_type": "stream",
     "text": [
      "Requirement already satisfied: nltk in c:\\users\\kiit\\desktop\\sample_project_1\\env\\lib\\site-packages (3.8.1)\n",
      "Requirement already satisfied: click in c:\\users\\kiit\\appdata\\roaming\\python\\python310\\site-packages (from nltk) (8.1.3)\n",
      "Requirement already satisfied: tqdm in c:\\users\\kiit\\desktop\\sample_project_1\\env\\lib\\site-packages (from nltk) (4.64.1)\n",
      "Requirement already satisfied: regex>=2021.8.3 in c:\\users\\kiit\\desktop\\sample_project_1\\env\\lib\\site-packages (from nltk) (2022.10.31)\n",
      "Requirement already satisfied: joblib in c:\\users\\kiit\\desktop\\sample_project_1\\env\\lib\\site-packages (from nltk) (1.1.1)\n",
      "Requirement already satisfied: colorama in c:\\users\\kiit\\appdata\\roaming\\python\\python310\\site-packages (from click->nltk) (0.4.4)\n"
     ]
    }
   ],
   "source": [
    "!pip3 install nltk"
   ]
  },
  {
   "cell_type": "code",
   "execution_count": 20,
   "id": "f4fdb30c",
   "metadata": {},
   "outputs": [
    {
     "name": "stderr",
     "output_type": "stream",
     "text": [
      "[nltk_data] Downloading package stopwords to\n",
      "[nltk_data]     C:\\Users\\KIIT\\AppData\\Roaming\\nltk_data...\n",
      "[nltk_data]   Unzipping corpora\\stopwords.zip.\n"
     ]
    },
    {
     "data": {
      "text/plain": [
       "True"
      ]
     },
     "execution_count": 20,
     "metadata": {},
     "output_type": "execute_result"
    }
   ],
   "source": [
    "import nltk\n",
    "nltk.download('stopwords')"
   ]
  },
  {
   "cell_type": "code",
   "execution_count": 27,
   "id": "d2311d93",
   "metadata": {},
   "outputs": [
    {
     "name": "stderr",
     "output_type": "stream",
     "text": [
      "[nltk_data] Downloading package wordnet to\n",
      "[nltk_data]     C:\\Users\\KIIT\\AppData\\Roaming\\nltk_data...\n"
     ]
    },
    {
     "data": {
      "text/plain": [
       "True"
      ]
     },
     "execution_count": 27,
     "metadata": {},
     "output_type": "execute_result"
    }
   ],
   "source": [
    "import nltk\n",
    "nltk.download('wordnet')"
   ]
  },
  {
   "cell_type": "code",
   "execution_count": 28,
   "id": "b6f8a928",
   "metadata": {},
   "outputs": [],
   "source": [
    "import seaborn as sns"
   ]
  },
  {
   "cell_type": "code",
   "execution_count": 29,
   "id": "0c9ed322",
   "metadata": {},
   "outputs": [],
   "source": [
    "import os\n",
    "cwd = os.getcwd()\n",
    "\n",
    "df = pd.read_csv(cwd+\"/BA_reviews.csv\", index_col=0)\n"
   ]
  },
  {
   "cell_type": "code",
   "execution_count": 30,
   "id": "5c56dfb1",
   "metadata": {},
   "outputs": [
    {
     "data": {
      "text/html": [
       "<div>\n",
       "<style scoped>\n",
       "    .dataframe tbody tr th:only-of-type {\n",
       "        vertical-align: middle;\n",
       "    }\n",
       "\n",
       "    .dataframe tbody tr th {\n",
       "        vertical-align: top;\n",
       "    }\n",
       "\n",
       "    .dataframe thead th {\n",
       "        text-align: right;\n",
       "    }\n",
       "</style>\n",
       "<table border=\"1\" class=\"dataframe\">\n",
       "  <thead>\n",
       "    <tr style=\"text-align: right;\">\n",
       "      <th></th>\n",
       "      <th>reviews</th>\n",
       "      <th>date</th>\n",
       "      <th>stars</th>\n",
       "      <th>country</th>\n",
       "    </tr>\n",
       "  </thead>\n",
       "  <tbody>\n",
       "    <tr>\n",
       "      <th>0</th>\n",
       "      <td>✅ Trip Verified | Probably the worst business ...</td>\n",
       "      <td>2nd January 2023</td>\n",
       "      <td>\\n\\t\\t\\t\\t\\t\\t\\t\\t\\t\\t\\t\\t\\t5</td>\n",
       "      <td>United States</td>\n",
       "    </tr>\n",
       "    <tr>\n",
       "      <th>1</th>\n",
       "      <td>✅ Trip Verified | Definitely not recommended, ...</td>\n",
       "      <td>2nd January 2023</td>\n",
       "      <td>1</td>\n",
       "      <td>United States</td>\n",
       "    </tr>\n",
       "    <tr>\n",
       "      <th>2</th>\n",
       "      <td>✅ Trip Verified |  BA shuttle service across t...</td>\n",
       "      <td>2nd January 2023</td>\n",
       "      <td>2</td>\n",
       "      <td>United Kingdom</td>\n",
       "    </tr>\n",
       "    <tr>\n",
       "      <th>3</th>\n",
       "      <td>✅ Trip Verified | I must admit like many other...</td>\n",
       "      <td>1st January 2023</td>\n",
       "      <td>8</td>\n",
       "      <td>United Kingdom</td>\n",
       "    </tr>\n",
       "    <tr>\n",
       "      <th>4</th>\n",
       "      <td>Not Verified |  When will BA update their Busi...</td>\n",
       "      <td>30th December 2022</td>\n",
       "      <td>6</td>\n",
       "      <td>United Kingdom</td>\n",
       "    </tr>\n",
       "  </tbody>\n",
       "</table>\n",
       "</div>"
      ],
      "text/plain": [
       "                                             reviews                date  \\\n",
       "0  ✅ Trip Verified | Probably the worst business ...    2nd January 2023   \n",
       "1  ✅ Trip Verified | Definitely not recommended, ...    2nd January 2023   \n",
       "2  ✅ Trip Verified |  BA shuttle service across t...    2nd January 2023   \n",
       "3  ✅ Trip Verified | I must admit like many other...    1st January 2023   \n",
       "4  Not Verified |  When will BA update their Busi...  30th December 2022   \n",
       "\n",
       "                           stars         country  \n",
       "0  \\n\\t\\t\\t\\t\\t\\t\\t\\t\\t\\t\\t\\t\\t5   United States  \n",
       "1                              1   United States  \n",
       "2                              2  United Kingdom  \n",
       "3                              8  United Kingdom  \n",
       "4                              6  United Kingdom  "
      ]
     },
     "execution_count": 30,
     "metadata": {},
     "output_type": "execute_result"
    }
   ],
   "source": [
    "df.head()"
   ]
  },
  {
   "cell_type": "markdown",
   "id": "85802317",
   "metadata": {},
   "source": [
    "Creating a column which mentions if the user is verified or not."
   ]
  },
  {
   "cell_type": "code",
   "execution_count": 31,
   "id": "853662eb",
   "metadata": {},
   "outputs": [],
   "source": [
    "df['verified'] = df.reviews.str.contains(\"Trip Verified\")"
   ]
  },
  {
   "cell_type": "code",
   "execution_count": 32,
   "id": "3ec35597",
   "metadata": {},
   "outputs": [
    {
     "data": {
      "text/plain": [
       "0        True\n",
       "1        True\n",
       "2        True\n",
       "3        True\n",
       "4       False\n",
       "        ...  \n",
       "3446    False\n",
       "3447    False\n",
       "3448    False\n",
       "3449    False\n",
       "3450    False\n",
       "Name: verified, Length: 3451, dtype: bool"
      ]
     },
     "execution_count": 32,
     "metadata": {},
     "output_type": "execute_result"
    }
   ],
   "source": [
    "df['verified']"
   ]
  },
  {
   "cell_type": "markdown",
   "id": "9fb891e5",
   "metadata": {},
   "source": [
    "# Cleaning Reviews"
   ]
  },
  {
   "cell_type": "markdown",
   "id": "d2a18ef4",
   "metadata": {},
   "source": [
    "##### Extracting the column of reviews into a separate dataframe and clean it for semantic analysis"
   ]
  },
  {
   "cell_type": "code",
   "execution_count": 33,
   "id": "969dcc67",
   "metadata": {},
   "outputs": [],
   "source": [
    "#for lemmatization of words we will use nltk library\n",
    "from nltk.stem import WordNetLemmatizer\n",
    "from nltk.corpus import stopwords\n",
    "lemma = WordNetLemmatizer()\n",
    "\n",
    "\n",
    "reviews_data = df.reviews.str.strip(\"✅ Trip Verified |\")\n",
    "\n",
    "#create an empty list to collect cleaned data corpus\n",
    "corpus =[]\n",
    "\n",
    "#loop through each review, remove punctuations, small case it, join it and add it to corpus\n",
    "for rev in reviews_data:\n",
    "    rev = re.sub('[^a-zA-Z]',' ', rev)\n",
    "    rev = rev.lower()\n",
    "    rev = rev.split()\n",
    "    rev = [lemma.lemmatize(word) for word in rev if word not in set(stopwords.words(\"english\"))]\n",
    "    rev = \" \".join(rev)\n",
    "    corpus.append(rev)"
   ]
  },
  {
   "cell_type": "code",
   "execution_count": 34,
   "id": "7d0d3f57",
   "metadata": {},
   "outputs": [],
   "source": [
    "df['corpus'] = corpus"
   ]
  },
  {
   "cell_type": "code",
   "execution_count": 35,
   "id": "6ea7b232",
   "metadata": {},
   "outputs": [
    {
     "data": {
      "text/html": [
       "<div>\n",
       "<style scoped>\n",
       "    .dataframe tbody tr th:only-of-type {\n",
       "        vertical-align: middle;\n",
       "    }\n",
       "\n",
       "    .dataframe tbody tr th {\n",
       "        vertical-align: top;\n",
       "    }\n",
       "\n",
       "    .dataframe thead th {\n",
       "        text-align: right;\n",
       "    }\n",
       "</style>\n",
       "<table border=\"1\" class=\"dataframe\">\n",
       "  <thead>\n",
       "    <tr style=\"text-align: right;\">\n",
       "      <th></th>\n",
       "      <th>reviews</th>\n",
       "      <th>date</th>\n",
       "      <th>stars</th>\n",
       "      <th>country</th>\n",
       "      <th>verified</th>\n",
       "      <th>corpus</th>\n",
       "    </tr>\n",
       "  </thead>\n",
       "  <tbody>\n",
       "    <tr>\n",
       "      <th>0</th>\n",
       "      <td>✅ Trip Verified | Probably the worst business ...</td>\n",
       "      <td>2nd January 2023</td>\n",
       "      <td>\\n\\t\\t\\t\\t\\t\\t\\t\\t\\t\\t\\t\\t\\t5</td>\n",
       "      <td>United States</td>\n",
       "      <td>True</td>\n",
       "      <td>probably worst business class experience ever ...</td>\n",
       "    </tr>\n",
       "    <tr>\n",
       "      <th>1</th>\n",
       "      <td>✅ Trip Verified | Definitely not recommended, ...</td>\n",
       "      <td>2nd January 2023</td>\n",
       "      <td>1</td>\n",
       "      <td>United States</td>\n",
       "      <td>True</td>\n",
       "      <td>definitely recommended especially business cla...</td>\n",
       "    </tr>\n",
       "    <tr>\n",
       "      <th>2</th>\n",
       "      <td>✅ Trip Verified |  BA shuttle service across t...</td>\n",
       "      <td>2nd January 2023</td>\n",
       "      <td>2</td>\n",
       "      <td>United Kingdom</td>\n",
       "      <td>True</td>\n",
       "      <td>ba shuttle service across uk still surprisingl...</td>\n",
       "    </tr>\n",
       "    <tr>\n",
       "      <th>3</th>\n",
       "      <td>✅ Trip Verified | I must admit like many other...</td>\n",
       "      <td>1st January 2023</td>\n",
       "      <td>8</td>\n",
       "      <td>United Kingdom</td>\n",
       "      <td>True</td>\n",
       "      <td>must admit like many others tend avoid ba long...</td>\n",
       "    </tr>\n",
       "    <tr>\n",
       "      <th>4</th>\n",
       "      <td>Not Verified |  When will BA update their Busi...</td>\n",
       "      <td>30th December 2022</td>\n",
       "      <td>6</td>\n",
       "      <td>United Kingdom</td>\n",
       "      <td>False</td>\n",
       "      <td>verified ba update business class cabin across...</td>\n",
       "    </tr>\n",
       "  </tbody>\n",
       "</table>\n",
       "</div>"
      ],
      "text/plain": [
       "                                             reviews                date  \\\n",
       "0  ✅ Trip Verified | Probably the worst business ...    2nd January 2023   \n",
       "1  ✅ Trip Verified | Definitely not recommended, ...    2nd January 2023   \n",
       "2  ✅ Trip Verified |  BA shuttle service across t...    2nd January 2023   \n",
       "3  ✅ Trip Verified | I must admit like many other...    1st January 2023   \n",
       "4  Not Verified |  When will BA update their Busi...  30th December 2022   \n",
       "\n",
       "                           stars         country  verified  \\\n",
       "0  \\n\\t\\t\\t\\t\\t\\t\\t\\t\\t\\t\\t\\t\\t5   United States      True   \n",
       "1                              1   United States      True   \n",
       "2                              2  United Kingdom      True   \n",
       "3                              8  United Kingdom      True   \n",
       "4                              6  United Kingdom     False   \n",
       "\n",
       "                                              corpus  \n",
       "0  probably worst business class experience ever ...  \n",
       "1  definitely recommended especially business cla...  \n",
       "2  ba shuttle service across uk still surprisingl...  \n",
       "3  must admit like many others tend avoid ba long...  \n",
       "4  verified ba update business class cabin across...  "
      ]
     },
     "execution_count": 35,
     "metadata": {},
     "output_type": "execute_result"
    }
   ],
   "source": [
    "df.head()"
   ]
  },
  {
   "cell_type": "markdown",
   "id": "54743830",
   "metadata": {},
   "source": [
    "# Cleaning anf Format data"
   ]
  },
  {
   "cell_type": "code",
   "execution_count": 36,
   "id": "d2690534",
   "metadata": {},
   "outputs": [
    {
     "data": {
      "text/plain": [
       "reviews     object\n",
       "date        object\n",
       "stars       object\n",
       "country     object\n",
       "verified      bool\n",
       "corpus      object\n",
       "dtype: object"
      ]
     },
     "execution_count": 36,
     "metadata": {},
     "output_type": "execute_result"
    }
   ],
   "source": [
    "df.dtypes"
   ]
  },
  {
   "cell_type": "code",
   "execution_count": 37,
   "id": "005593cc",
   "metadata": {},
   "outputs": [],
   "source": [
    "# convert the date to datetime format\n",
    "\n",
    "df.date = pd.to_datetime(df.date)"
   ]
  },
  {
   "cell_type": "code",
   "execution_count": 38,
   "id": "c49b54de",
   "metadata": {},
   "outputs": [
    {
     "data": {
      "text/plain": [
       "0   2023-01-02\n",
       "1   2023-01-02\n",
       "2   2023-01-02\n",
       "3   2023-01-01\n",
       "4   2022-12-30\n",
       "Name: date, dtype: datetime64[ns]"
      ]
     },
     "execution_count": 38,
     "metadata": {},
     "output_type": "execute_result"
    }
   ],
   "source": [
    "df.date.head()"
   ]
  },
  {
   "cell_type": "markdown",
   "id": "2a7c5123",
   "metadata": {},
   "source": [
    "# Cleaning ratings with stars"
   ]
  },
  {
   "cell_type": "code",
   "execution_count": 39,
   "id": "a577d5d2",
   "metadata": {},
   "outputs": [
    {
     "data": {
      "text/plain": [
       "array(['\\n\\t\\t\\t\\t\\t\\t\\t\\t\\t\\t\\t\\t\\t5', '1', '2', '8', '6', '4', '3', '5',\n",
       "       '9', '7', '10', 'None'], dtype=object)"
      ]
     },
     "execution_count": 39,
     "metadata": {},
     "output_type": "execute_result"
    }
   ],
   "source": [
    "df.stars.unique()"
   ]
  },
  {
   "cell_type": "code",
   "execution_count": 40,
   "id": "06fb066e",
   "metadata": {},
   "outputs": [],
   "source": [
    "df.stars = df.stars.str.strip(\"\\n\\t\\t\\t\\t\\t\\t\\t\\t\\t\\t\\t\\t\\t\")"
   ]
  },
  {
   "cell_type": "code",
   "execution_count": 41,
   "id": "08a8abb3",
   "metadata": {},
   "outputs": [
    {
     "data": {
      "text/plain": [
       "1       743\n",
       "2       387\n",
       "3       384\n",
       "8       352\n",
       "10      307\n",
       "7       303\n",
       "9       294\n",
       "5       259\n",
       "4       231\n",
       "6       186\n",
       "None      5\n",
       "Name: stars, dtype: int64"
      ]
     },
     "execution_count": 41,
     "metadata": {},
     "output_type": "execute_result"
    }
   ],
   "source": [
    "df.stars.value_counts()"
   ]
  },
  {
   "cell_type": "code",
   "execution_count": 42,
   "id": "03a2bc3b",
   "metadata": {},
   "outputs": [],
   "source": [
    "df.drop(df[df.stars == \"None\"].index, axis=0, inplace=True)"
   ]
  },
  {
   "cell_type": "code",
   "execution_count": 43,
   "id": "85e7f6c6",
   "metadata": {},
   "outputs": [
    {
     "data": {
      "text/plain": [
       "array(['5', '1', '2', '8', '6', '4', '3', '9', '7', '10'], dtype=object)"
      ]
     },
     "execution_count": 43,
     "metadata": {},
     "output_type": "execute_result"
    }
   ],
   "source": [
    "df.stars.unique()"
   ]
  },
  {
   "cell_type": "code",
   "execution_count": 44,
   "id": "b449a536",
   "metadata": {},
   "outputs": [
    {
     "data": {
      "text/plain": [
       "reviews  date   stars  country  verified  corpus\n",
       "False    False  False  False    False     False     3444\n",
       "                       True     False     False        2\n",
       "dtype: int64"
      ]
     },
     "execution_count": 44,
     "metadata": {},
     "output_type": "execute_result"
    }
   ],
   "source": [
    "df.isnull().value_counts()\n"
   ]
  },
  {
   "cell_type": "code",
   "execution_count": 45,
   "id": "3388a9bc",
   "metadata": {},
   "outputs": [
    {
     "data": {
      "text/plain": [
       "False    3444\n",
       "True        2\n",
       "Name: country, dtype: int64"
      ]
     },
     "execution_count": 45,
     "metadata": {},
     "output_type": "execute_result"
    }
   ],
   "source": [
    "df.country.isnull().value_counts()\n"
   ]
  },
  {
   "cell_type": "code",
   "execution_count": 47,
   "id": "7b71eb98",
   "metadata": {},
   "outputs": [],
   "source": [
    "df.drop(df[df.country.isnull() == True].index, axis=0, inplace=True)"
   ]
  },
  {
   "cell_type": "code",
   "execution_count": 48,
   "id": "4a4af38a",
   "metadata": {},
   "outputs": [
    {
     "data": {
      "text/plain": [
       "(3444, 6)"
      ]
     },
     "execution_count": 48,
     "metadata": {},
     "output_type": "execute_result"
    }
   ],
   "source": [
    "df.shape"
   ]
  },
  {
   "cell_type": "code",
   "execution_count": 49,
   "id": "92b2f58a",
   "metadata": {},
   "outputs": [
    {
     "data": {
      "text/html": [
       "<div>\n",
       "<style scoped>\n",
       "    .dataframe tbody tr th:only-of-type {\n",
       "        vertical-align: middle;\n",
       "    }\n",
       "\n",
       "    .dataframe tbody tr th {\n",
       "        vertical-align: top;\n",
       "    }\n",
       "\n",
       "    .dataframe thead th {\n",
       "        text-align: right;\n",
       "    }\n",
       "</style>\n",
       "<table border=\"1\" class=\"dataframe\">\n",
       "  <thead>\n",
       "    <tr style=\"text-align: right;\">\n",
       "      <th></th>\n",
       "      <th>reviews</th>\n",
       "      <th>date</th>\n",
       "      <th>stars</th>\n",
       "      <th>country</th>\n",
       "      <th>verified</th>\n",
       "      <th>corpus</th>\n",
       "    </tr>\n",
       "  </thead>\n",
       "  <tbody>\n",
       "    <tr>\n",
       "      <th>0</th>\n",
       "      <td>✅ Trip Verified | Probably the worst business ...</td>\n",
       "      <td>2023-01-02</td>\n",
       "      <td>5</td>\n",
       "      <td>United States</td>\n",
       "      <td>True</td>\n",
       "      <td>probably worst business class experience ever ...</td>\n",
       "    </tr>\n",
       "    <tr>\n",
       "      <th>1</th>\n",
       "      <td>✅ Trip Verified | Definitely not recommended, ...</td>\n",
       "      <td>2023-01-02</td>\n",
       "      <td>1</td>\n",
       "      <td>United States</td>\n",
       "      <td>True</td>\n",
       "      <td>definitely recommended especially business cla...</td>\n",
       "    </tr>\n",
       "    <tr>\n",
       "      <th>2</th>\n",
       "      <td>✅ Trip Verified |  BA shuttle service across t...</td>\n",
       "      <td>2023-01-02</td>\n",
       "      <td>2</td>\n",
       "      <td>United Kingdom</td>\n",
       "      <td>True</td>\n",
       "      <td>ba shuttle service across uk still surprisingl...</td>\n",
       "    </tr>\n",
       "    <tr>\n",
       "      <th>3</th>\n",
       "      <td>✅ Trip Verified | I must admit like many other...</td>\n",
       "      <td>2023-01-01</td>\n",
       "      <td>8</td>\n",
       "      <td>United Kingdom</td>\n",
       "      <td>True</td>\n",
       "      <td>must admit like many others tend avoid ba long...</td>\n",
       "    </tr>\n",
       "    <tr>\n",
       "      <th>4</th>\n",
       "      <td>Not Verified |  When will BA update their Busi...</td>\n",
       "      <td>2022-12-30</td>\n",
       "      <td>6</td>\n",
       "      <td>United Kingdom</td>\n",
       "      <td>False</td>\n",
       "      <td>verified ba update business class cabin across...</td>\n",
       "    </tr>\n",
       "    <tr>\n",
       "      <th>...</th>\n",
       "      <td>...</td>\n",
       "      <td>...</td>\n",
       "      <td>...</td>\n",
       "      <td>...</td>\n",
       "      <td>...</td>\n",
       "      <td>...</td>\n",
       "    </tr>\n",
       "    <tr>\n",
       "      <th>3439</th>\n",
       "      <td>YYZ to LHR - July 2012 - I flew overnight in p...</td>\n",
       "      <td>2012-08-29</td>\n",
       "      <td>7</td>\n",
       "      <td>Canada</td>\n",
       "      <td>False</td>\n",
       "      <td>yyz lhr july flew overnight premium economy ch...</td>\n",
       "    </tr>\n",
       "    <tr>\n",
       "      <th>3440</th>\n",
       "      <td>LHR to HAM. Purser addresses all club passenge...</td>\n",
       "      <td>2012-08-28</td>\n",
       "      <td>1</td>\n",
       "      <td>United Kingdom</td>\n",
       "      <td>False</td>\n",
       "      <td>lhr ham purser address club passenger name boa...</td>\n",
       "    </tr>\n",
       "    <tr>\n",
       "      <th>3441</th>\n",
       "      <td>My son who had worked for British Airways urge...</td>\n",
       "      <td>2011-10-12</td>\n",
       "      <td>9</td>\n",
       "      <td>United Kingdom</td>\n",
       "      <td>False</td>\n",
       "      <td>son worked british airway urged fly british ai...</td>\n",
       "    </tr>\n",
       "    <tr>\n",
       "      <th>3442</th>\n",
       "      <td>London City-New York JFK via Shannon on A318 b...</td>\n",
       "      <td>2011-10-11</td>\n",
       "      <td>8</td>\n",
       "      <td>United States</td>\n",
       "      <td>False</td>\n",
       "      <td>london city new york jfk via shannon really ni...</td>\n",
       "    </tr>\n",
       "    <tr>\n",
       "      <th>3443</th>\n",
       "      <td>SIN-LHR BA12 B747-436 First Class. Old aircraf...</td>\n",
       "      <td>2011-10-09</td>\n",
       "      <td>10</td>\n",
       "      <td>United Kingdom</td>\n",
       "      <td>False</td>\n",
       "      <td>sin lhr ba b first class old aircraft seat pri...</td>\n",
       "    </tr>\n",
       "  </tbody>\n",
       "</table>\n",
       "<p>3444 rows × 6 columns</p>\n",
       "</div>"
      ],
      "text/plain": [
       "                                                reviews       date stars  \\\n",
       "0     ✅ Trip Verified | Probably the worst business ... 2023-01-02     5   \n",
       "1     ✅ Trip Verified | Definitely not recommended, ... 2023-01-02     1   \n",
       "2     ✅ Trip Verified |  BA shuttle service across t... 2023-01-02     2   \n",
       "3     ✅ Trip Verified | I must admit like many other... 2023-01-01     8   \n",
       "4     Not Verified |  When will BA update their Busi... 2022-12-30     6   \n",
       "...                                                 ...        ...   ...   \n",
       "3439  YYZ to LHR - July 2012 - I flew overnight in p... 2012-08-29     7   \n",
       "3440  LHR to HAM. Purser addresses all club passenge... 2012-08-28     1   \n",
       "3441  My son who had worked for British Airways urge... 2011-10-12     9   \n",
       "3442  London City-New York JFK via Shannon on A318 b... 2011-10-11     8   \n",
       "3443  SIN-LHR BA12 B747-436 First Class. Old aircraf... 2011-10-09    10   \n",
       "\n",
       "             country  verified  \\\n",
       "0      United States      True   \n",
       "1      United States      True   \n",
       "2     United Kingdom      True   \n",
       "3     United Kingdom      True   \n",
       "4     United Kingdom     False   \n",
       "...              ...       ...   \n",
       "3439          Canada     False   \n",
       "3440  United Kingdom     False   \n",
       "3441  United Kingdom     False   \n",
       "3442   United States     False   \n",
       "3443  United Kingdom     False   \n",
       "\n",
       "                                                 corpus  \n",
       "0     probably worst business class experience ever ...  \n",
       "1     definitely recommended especially business cla...  \n",
       "2     ba shuttle service across uk still surprisingl...  \n",
       "3     must admit like many others tend avoid ba long...  \n",
       "4     verified ba update business class cabin across...  \n",
       "...                                                 ...  \n",
       "3439  yyz lhr july flew overnight premium economy ch...  \n",
       "3440  lhr ham purser address club passenger name boa...  \n",
       "3441  son worked british airway urged fly british ai...  \n",
       "3442  london city new york jfk via shannon really ni...  \n",
       "3443  sin lhr ba b first class old aircraft seat pri...  \n",
       "\n",
       "[3444 rows x 6 columns]"
      ]
     },
     "execution_count": 49,
     "metadata": {},
     "output_type": "execute_result"
    }
   ],
   "source": [
    "df.reset_index(drop=True)"
   ]
  },
  {
   "cell_type": "code",
   "execution_count": 50,
   "id": "ed1b4050",
   "metadata": {},
   "outputs": [],
   "source": [
    "df.to_csv(cwd + \"/cleaned-BA-reviews.csv\")"
   ]
  }
 ],
 "metadata": {
  "kernelspec": {
   "display_name": "Python 3 (ipykernel)",
   "language": "python",
   "name": "python3"
  },
  "language_info": {
   "codemirror_mode": {
    "name": "ipython",
    "version": 3
   },
   "file_extension": ".py",
   "mimetype": "text/x-python",
   "name": "python",
   "nbconvert_exporter": "python",
   "pygments_lexer": "ipython3",
   "version": "3.10.8"
  }
 },
 "nbformat": 4,
 "nbformat_minor": 5
}
